{
 "cells": [
  {
   "cell_type": "markdown",
   "metadata": {},
   "source": [
    "### Here we want to test whether its possible to find an approximate parameter transformation which enables the metric to be flattened\n",
    "\n",
    "In particular, we want to find a $J$ such that\n",
    "\n",
    "$$\n",
    "I \\sim J\\, g\\, J^{\\mathrm{T}}\n",
    "$$\n",
    "\n",
    "where $g$ is the metric in the original parameter space. We want to do this because we found that for 6D parameter spaces the metric is poorly conditioned, making the calculation of the determinant very unstable. Hopefully we can fix that!\n",
    "\n",
    "If we decompose the metric as \n",
    "\n",
    "$$\n",
    "g = U^{\\mathrm{T}} \\, U\n",
    "$$\n",
    "\n",
    "then $J = U^{-1}$. Note that once we have found this tranformation we can also transform the parameters as \n",
    "\n",
    "$$\n",
    "\\theta_n = \\theta_o J\n",
    "$$\n",
    "\n",
    "and similarly\n",
    "\n",
    "$$\n",
    "\\theta_o = \\theta_n (J)^{-1}\n",
    "$$\n",
    "\n",
    "This is enforced since we want $d\\theta_n = d\\theta_n g d\\theta_n = d\\theta_o J g J d\\theta_o$"
   ]
  },
  {
   "cell_type": "markdown",
   "metadata": {},
   "source": [
    "We will start by taking a single point in the parameter space and trying this"
   ]
  },
  {
   "cell_type": "code",
   "execution_count": 1,
   "metadata": {},
   "outputs": [
    {
     "name": "stderr",
     "output_type": "stream",
     "text": [
      "WARNING:absl:No GPU/TPU found, falling back to CPU. (Set TF_CPP_MIN_LOG_LEVEL=0 and rerun for more info.)\n"
     ]
    },
    {
     "name": "stdout",
     "output_type": "stream",
     "text": [
      "[[ 2.62024325e-03  3.60693965e-20  0.00000000e+00  0.00000000e+00]\n",
      " [-5.71936909e-03  7.09145187e-04 -0.00000000e+00 -0.00000000e+00]\n",
      " [-3.44132377e-03  1.15421576e-03  1.55187850e-01  0.00000000e+00]\n",
      " [ 1.22738751e-02 -1.74407032e-03 -3.06029146e-01  7.46873242e-01]]\n"
     ]
    }
   ],
   "source": [
    "from functools import partial\n",
    "from typing import Callable\n",
    "import numpy as np\n",
    "from diffbank.bank import Bank\n",
    "from diffbank.utils import gen_templates_rejection\n",
    "from jax import random\n",
    "import jax\n",
    "import jax.numpy as jnp\n",
    "from jax.scipy.linalg import cholesky, inv, det\n",
    "from jax import jit\n",
    "from diffbank.metric import get_g\n",
    "from diffbank.waveforms import taylorF2_modified\n",
    "from diffbank.waveforms import taylorF2"
   ]
  },
  {
   "cell_type": "code",
   "execution_count": 2,
   "metadata": {},
   "outputs": [],
   "source": [
    "f_u = 512.0  # Hz\n",
    "f_l = 32.0  # Hz\n",
    "\n",
    "Mt_range = (2, 9)\n",
    "eta_range = (0.139, 0.25)\n",
    "chi1_range = (-0.8, 0.8)\n",
    "chi2_range = (-0.8, 0.8)\n",
    "# k1_range = (0.0, 1.0)\n",
    "# k2_range = (0.0, 1.0)\n",
    "\n",
    "def get_Sn_aLIGO() -> Callable[[jnp.ndarray], jnp.ndarray]:\n",
    "    \"\"\"\n",
    "    Get interpolator for noise curve.\n",
    "    \"\"\"\n",
    "    xp, yp = np.loadtxt(\"../scripts/LIGO-P1200087-v18-aLIGO_MID_LOW.txt\", unpack=True)\n",
    "    return lambda f: jnp.interp(f, xp, yp, left=jnp.inf, right=jnp.inf)\n",
    "\n",
    "\n",
    "def propose(key, n):\n",
    "    \"\"\"\n",
    "    Proposal distribution for var rejection sampling.\n",
    "    \"\"\"\n",
    "    return random.uniform(\n",
    "        key,\n",
    "        shape=(\n",
    "            n,\n",
    "            4,\n",
    "        ),\n",
    "        minval=jnp.stack(\n",
    "            (Mt_range[0], eta_range[0], chi1_range[0], chi2_range[0])\n",
    "        ),\n",
    "        maxval=jnp.stack(\n",
    "            (Mt_range[1], eta_range[1], chi1_range[1], chi2_range[1])\n",
    "        ),\n",
    "    )"
   ]
  },
  {
   "cell_type": "code",
   "execution_count": 3,
   "metadata": {},
   "outputs": [],
   "source": [
    "# Lets just check to see if we can get bad metrics\n",
    "fs = jnp.linspace(f_l, f_u, 3000)\n",
    "Sn_aLIGO = get_Sn_aLIGO()\n",
    "mm = 0.95\n",
    "eta = 0.95\n",
    "\n",
    "bank = Bank(\n",
    "    taylorF2.Amp,\n",
    "    taylorF2.Psi,\n",
    "    fs,\n",
    "    Sn_aLIGO,\n",
    "    sample_base = propose,\n",
    "    m_star=1 - mm,\n",
    "    eta=eta,\n",
    "    name=\"6D\",\n",
    ")\n",
    "\n",
    "bank_modified = Bank(\n",
    "    taylorF2_modified.Amp,\n",
    "    taylorF2_modified.Psi,\n",
    "    fs,\n",
    "    Sn_aLIGO,\n",
    "    sample_base = propose,\n",
    "    m_star=1 - mm,\n",
    "    eta=eta,\n",
    "    name=\"6D\",\n",
    ")\n",
    "\n",
    "seed = 10\n",
    "key = random.PRNGKey(seed)\n",
    "N = 10\n",
    "thetas = propose(key, N)"
   ]
  },
  {
   "cell_type": "code",
   "execution_count": 4,
   "metadata": {},
   "outputs": [
    {
     "name": "stdout",
     "output_type": "stream",
     "text": [
      "[[ 1.45652110e+05  1.17470751e+06 -5.50706676e+03 -1.90697184e+03]\n",
      " [ 1.17470751e+06  1.14627222e+07 -5.92050585e+04 -1.67965492e+04]\n",
      " [-5.50706676e+03 -5.92050585e+04  3.59742179e+02  9.96512551e+01]\n",
      " [-1.90697184e+03 -1.67965492e+04  9.96512551e+01  3.47403999e+01]]\n",
      "True\n",
      "True\n",
      "[[ 1.00000000e+00  0.00000000e+00  0.00000000e+00 -1.33226763e-15]\n",
      " [ 5.08632043e-17  1.00000000e+00 -1.33226763e-15  1.66533454e-15]\n",
      " [-2.97887169e-16 -6.39710596e-16  1.00000000e+00  2.44249065e-15]\n",
      " [-1.19154867e-15  1.31094036e-15  6.08148261e-15  1.00000000e+00]]\n",
      "False\n",
      "True\n",
      "[[ 2.62024325e-03  3.60693965e-20  0.00000000e+00  0.00000000e+00]\n",
      " [-5.71936909e-03  7.09145187e-04 -0.00000000e+00 -0.00000000e+00]\n",
      " [-3.44132377e-03  1.15421576e-03  1.55187850e-01  0.00000000e+00]\n",
      " [ 1.22738751e-02 -1.74407032e-03 -3.06029146e-01  7.46873242e-01]]\n"
     ]
    }
   ],
   "source": [
    "#This is how we can calculate the appropriate coordinate transform\n",
    "gs = jax.lax.map(bank.g_fun, thetas)\n",
    "g_average = gs.sum(axis=0)/gs.shape[0]\n",
    "\n",
    "# First lets check that the matrix is symmetric and positive definite\n",
    "def check_symmetric(a, rtol=1e-15, atol=1e-15):\n",
    "    return np.allclose(a, a.transpose(), rtol=rtol, atol=atol)\n",
    "\n",
    "def is_pos_def(x):\n",
    "    return np.all(np.linalg.eigvals(x) > 0)\n",
    "\n",
    "print(g_average)\n",
    "print(check_symmetric(np.array(g_average)))\n",
    "print(is_pos_def(np.array(g_average)))\n",
    "\n",
    "# Now lets try to take the decomposition\n",
    "L = cholesky(g_average, lower=True)\n",
    "J = inv(L)\n",
    "G = jnp.dot(jnp.dot(J,g_average),J.transpose())\n",
    "print(G)\n",
    "print(check_symmetric(np.array(G)))\n",
    "print(is_pos_def(np.array(G)))\n",
    "\n",
    "print(J)\n",
    "np.save(\"../src/diffbank/waveforms/J_taylorF2.npy\", np.array(J))"
   ]
  },
  {
   "cell_type": "code",
   "execution_count": 5,
   "metadata": {},
   "outputs": [
    {
     "name": "stdout",
     "output_type": "stream",
     "text": [
      "[[ 3.69727030e+04  5.64594157e+05 -4.10430826e+03 -8.87737789e+02]\n",
      " [ 5.64594157e+05  8.62168919e+06 -6.26555093e+04 -1.35521659e+04]\n",
      " [-4.10430826e+03 -6.26555093e+04  4.79703630e+02  1.03578884e+02]\n",
      " [-8.87737789e+02 -1.35521659e+04  1.03578884e+02  2.23663881e+01]]\n",
      "[[ 0.25384255  0.49501293 -0.29480446  0.16276106]\n",
      " [ 0.49501293  0.96532219 -0.57272103  0.31529033]\n",
      " [-0.29480446 -0.57272103  0.92953622 -0.75851998]\n",
      " [ 0.16276106  0.31529033 -0.75851998  0.65678329]]\n",
      "1.8979303567345375e-07\n"
     ]
    }
   ],
   "source": [
    "k = 2\n",
    "print(gs[k])\n",
    "print(jnp.dot(jnp.dot(J,gs[k]),J.T))\n",
    "print(jnp.sqrt(det(jnp.dot(jnp.dot(J,gs[k]),J.T))))"
   ]
  },
  {
   "cell_type": "code",
   "execution_count": 6,
   "metadata": {},
   "outputs": [
    {
     "name": "stdout",
     "output_type": "stream",
     "text": [
      "[[ 4.17103455e+03  7.24669526e+04 -8.03075279e+02 -3.00470073e+02]\n",
      " [ 7.24669526e+04  1.25904410e+06 -1.39634368e+04 -5.22429251e+03]\n",
      " [-8.03075279e+02 -1.39634368e+04  1.63315375e+02  6.10106652e+01]\n",
      " [-3.00470073e+02 -5.22429251e+03  6.10106652e+01  2.27931471e+01]]\n",
      "[[ 5.08688687e+03  7.14689778e+04 -6.52827088e+02 -3.66682396e+02]\n",
      " [ 7.14689778e+04  1.00414215e+06 -9.16102559e+03 -5.14572159e+03]\n",
      " [-6.52827088e+02 -9.16102559e+03  8.80670490e+01  4.94180293e+01]\n",
      " [-3.66682396e+02 -5.14572159e+03  4.94180293e+01  2.77310298e+01]]\n",
      "[[ 3.69727030e+04  5.64594157e+05 -4.10430826e+03 -8.87737789e+02]\n",
      " [ 5.64594157e+05  8.62168919e+06 -6.26555093e+04 -1.35521659e+04]\n",
      " [-4.10430826e+03 -6.26555093e+04  4.79703630e+02  1.03578884e+02]\n",
      " [-8.87737789e+02 -1.35521659e+04  1.03578884e+02  2.23663881e+01]]\n"
     ]
    }
   ],
   "source": [
    "# Here is a demonstration of the problem\n",
    "# For some points in the parameter space, the density is nan\n",
    "# This is due to a poorly conditioned metric\n",
    "for i in range(0, 3):\n",
    "    print(bank.g_fun(thetas[i]))"
   ]
  },
  {
   "cell_type": "code",
   "execution_count": 7,
   "metadata": {},
   "outputs": [
    {
     "name": "stdout",
     "output_type": "stream",
     "text": [
      "Original: 0.000000016151077\n",
      "Modified: 0.000000016171458\n",
      "Original: 0.000000007974249\n",
      "Modified: 0.000000007972787\n",
      "Original: 0.000000189793036\n",
      "Modified: 0.000000189920159\n",
      "Original: 0.000000073346759\n",
      "Modified: 0.000000073429506\n",
      "Original: 0.000000124682961\n",
      "Modified: 0.000000124727025\n",
      "Original: 0.000000011257714\n",
      "Modified: 0.000000011265104\n",
      "Original: 0.000000013080073\n",
      "Modified: 0.000000013095189\n",
      "Original: 0.000001054239783\n",
      "Modified: 0.000001055337227\n",
      "Original: 0.000000690776731\n",
      "Modified: 0.000000691158452\n",
      "Original: 0.000000195630018\n",
      "Modified: 0.000000195575684\n"
     ]
    }
   ],
   "source": [
    "# This should no longer get nans\n",
    "for i in range(0, 10):\n",
    "    theta_n = jnp.dot(inv(J), thetas[i])\n",
    "    print(\"Original: %.15f\" % jnp.sqrt(det(jnp.dot(jnp.dot(J,gs[i]),J.T))))\n",
    "    print(\"Modified: %.15f\" % jnp.sqrt(det(bank_modified.g_fun(theta_n))))"
   ]
  },
  {
   "cell_type": "code",
   "execution_count": null,
   "metadata": {},
   "outputs": [],
   "source": []
  }
 ],
 "metadata": {
  "kernelspec": {
   "display_name": "Python 3",
   "language": "python",
   "name": "python3"
  },
  "language_info": {
   "codemirror_mode": {
    "name": "ipython",
    "version": 3
   },
   "file_extension": ".py",
   "mimetype": "text/x-python",
   "name": "python",
   "nbconvert_exporter": "python",
   "pygments_lexer": "ipython3",
   "version": "3.7.10"
  }
 },
 "nbformat": 4,
 "nbformat_minor": 4
}

{
 "cells": [
  {
   "cell_type": "markdown",
   "metadata": {},
   "source": [
    "### Here we want to test whether its possible to find an approximate parameter transformation which enables the metric to be flattened\n",
    "\n",
    "In particular, we want to find a $J$ such that\n",
    "\n",
    "$$\n",
    "I \\sim J\\, g\\, J^{\\mathrm{T}}\n",
    "$$\n",
    "\n",
    "where $g$ is the metric in the original parameter space. We want to do this because we found that for 6D parameter spaces the metric is poorly conditioned, making the calculation of the determinant very unstable. Hopefully we can fix that!\n",
    "\n",
    "If we decompose the metric as \n",
    "\n",
    "$$\n",
    "g = U^{\\mathrm{T}} \\, U\n",
    "$$\n",
    "\n",
    "then $J = U^{-1}$. Note that once we have found this tranformation we can also transform the parameters as \n",
    "\n",
    "$$\n",
    "\\theta_n = \\theta_o J\n",
    "$$\n",
    "\n",
    "and similarly\n",
    "\n",
    "$$\n",
    "\\theta_o = \\theta_n (J)^{-1}\n",
    "$$\n",
    "\n",
    "This is enforced since we want $d\\theta_n = d\\theta_n g d\\theta_n = d\\theta_o J g J d\\theta_o$"
   ]
  },
  {
   "cell_type": "markdown",
   "metadata": {},
   "source": [
    "We will start by taking a single point in the parameter space and trying this"
   ]
  },
  {
   "cell_type": "code",
   "execution_count": 6,
   "metadata": {},
   "outputs": [],
   "source": [
    "from functools import partial\n",
    "from typing import Callable\n",
    "import numpy as np\n",
    "from diffbank.bank import Bank\n",
    "from diffbank.utils import gen_templates_rejection\n",
    "from jax import random\n",
    "import jax\n",
    "import jax.numpy as jnp\n",
    "from jax.scipy.linalg import cholesky, inv, det\n",
    "from jax import jit\n",
    "from diffbank.metric import get_g\n",
    "from diffbank.waveforms import taylorF2_modified\n",
    "from diffbank.waveforms import taylorF2"
   ]
  },
  {
   "cell_type": "code",
   "execution_count": 7,
   "metadata": {},
   "outputs": [],
   "source": [
    "f_u = 512.0  # Hz\n",
    "f_l = 32.0  # Hz\n",
    "\n",
    "Mt_range = (2, 9)\n",
    "eta_range = (0.139, 0.25)\n",
    "chi1_range = (-0.8, 0.8)\n",
    "chi2_range = (-0.8, 0.8)\n",
    "# k1_range = (0.0, 1.0)\n",
    "# k2_range = (0.0, 1.0)\n",
    "\n",
    "def get_Sn_aLIGO() -> Callable[[jnp.ndarray], jnp.ndarray]:\n",
    "    \"\"\"\n",
    "    Get interpolator for noise curve.\n",
    "    \"\"\"\n",
    "    xp, yp = np.loadtxt(\"../scripts/LIGO-P1200087-v18-aLIGO_MID_LOW.txt\", unpack=True)\n",
    "    return lambda f: jnp.interp(f, xp, yp, left=jnp.inf, right=jnp.inf)\n",
    "\n",
    "\n",
    "def propose(key, n):\n",
    "    \"\"\"\n",
    "    Proposal distribution for var rejection sampling.\n",
    "    \"\"\"\n",
    "    return random.uniform(\n",
    "        key,\n",
    "        shape=(\n",
    "            n,\n",
    "            4,\n",
    "        ),\n",
    "        minval=jnp.stack(\n",
    "            (Mt_range[0], eta_range[0], chi1_range[0], chi2_range[0])\n",
    "        ),\n",
    "        maxval=jnp.stack(\n",
    "            (Mt_range[1], eta_range[1], chi1_range[1], chi2_range[1])\n",
    "        ),\n",
    "    )"
   ]
  },
  {
   "cell_type": "code",
   "execution_count": 8,
   "metadata": {},
   "outputs": [],
   "source": [
    "# Lets just check to see if we can get bad metrics\n",
    "fs = jnp.linspace(f_l, f_u, 3000)\n",
    "Sn_aLIGO = get_Sn_aLIGO()\n",
    "mm = 0.95\n",
    "eta = 0.95\n",
    "\n",
    "bank = Bank(\n",
    "    taylorF2.Amp,\n",
    "    taylorF2.Psi,\n",
    "    fs,\n",
    "    Sn_aLIGO,\n",
    "    sample_base = propose,\n",
    "    m_star=1 - mm,\n",
    "    eta=eta,\n",
    "    name=\"6D\",\n",
    ")\n",
    "\n",
    "bank_modified = Bank(\n",
    "    taylorF2_modified.Amp,\n",
    "    taylorF2_modified.Psi,\n",
    "    fs,\n",
    "    Sn_aLIGO,\n",
    "    sample_base = propose,\n",
    "    m_star=1 - mm,\n",
    "    eta=eta,\n",
    "    name=\"6D\",\n",
    ")\n",
    "\n",
    "seed = 10\n",
    "key = random.PRNGKey(seed)\n",
    "N = 100\n",
    "thetas = propose(key, N)"
   ]
  },
  {
   "cell_type": "code",
   "execution_count": 9,
   "metadata": {},
   "outputs": [
    {
     "name": "stdout",
     "output_type": "stream",
     "text": [
      "4472605.888955843\n",
      "[[ 2.66386507e-03 -6.61029137e-20  0.00000000e+00  0.00000000e+00]\n",
      " [-1.10381424e-02  1.23357098e-03 -0.00000000e+00 -0.00000000e+00]\n",
      " [-8.79594991e-03  1.55144904e-03  1.29331445e-01  0.00000000e+00]\n",
      " [ 6.05216804e-03 -9.44200422e-04 -1.91455425e-01  5.26088577e-01]]\n"
     ]
    }
   ],
   "source": [
    "#This is how we can calculate the appropriate coordinate transform\n",
    "gs = jax.lax.map(bank.g_fun, thetas)\n",
    "g_average = gs.sum(axis=0)/gs.shape[0]\n",
    "print(jnp.sqrt(det(g_average)))\n",
    "U = cholesky(g_average, lower=True)\n",
    "J = inv(U)\n",
    "np.save(\"../src/diffbank/waveforms/J_taylorF2.npy\", np.array(J))\n",
    "print(str(J))"
   ]
  },
  {
   "cell_type": "code",
   "execution_count": 12,
   "metadata": {},
   "outputs": [
    {
     "name": "stdout",
     "output_type": "stream",
     "text": [
      "[[ 5.64962913e+04  5.67662064e+05 -3.51821663e+03 -1.43829192e+03]\n",
      " [ 5.67662064e+05  5.70376433e+06 -3.53343372e+04 -1.44452649e+04]\n",
      " [-3.51821663e+03 -3.53343372e+04  2.30005325e+02  9.39362523e+01]\n",
      " [-1.43829192e+03 -1.44452649e+04  9.39362523e+01  3.83652297e+01]]\n",
      "[[ 0.40090769  0.20415154 -0.18981591 -0.73828754]\n",
      " [ 0.20415154  0.10399406 -0.09407525 -0.37560513]\n",
      " [-0.18981591 -0.09407525  0.27886776  0.37506446]\n",
      " [-0.73828754 -0.37560513  0.37506446  1.3630481 ]]\n",
      "7.619052255881044e-08\n"
     ]
    }
   ],
   "source": [
    "k = 2\n",
    "print(gs[k])\n",
    "print(jnp.dot(jnp.dot(J,gs[k]),J.T))\n",
    "print(jnp.sqrt(det(jnp.dot(jnp.dot(J,gs[k]),J.T))))"
   ]
  },
  {
   "cell_type": "code",
   "execution_count": 7,
   "metadata": {},
   "outputs": [
    {
     "name": "stdout",
     "output_type": "stream",
     "text": [
      "[[ 2.77904508e+04  3.30334042e+05 -2.84905117e+03 -9.60952951e+02]\n",
      " [ 3.30334042e+05  3.92746462e+06 -3.37444892e+04 -1.13824247e+04]\n",
      " [-2.84905117e+03 -3.37444892e+04  3.08095054e+02  1.03813144e+02]\n",
      " [-9.60952951e+02 -1.13824247e+04  1.03813144e+02  3.49807125e+01]]\n",
      "[[ 1.37168910e+05  1.68264520e+06 -1.07122133e+04 -2.17576478e+03]\n",
      " [ 1.68264520e+06  2.06428547e+07 -1.31110203e+05 -2.66311238e+04]\n",
      " [-1.07122133e+04 -1.31110203e+05  8.82297979e+02  1.79013196e+02]\n",
      " [-2.17576478e+03 -2.66311238e+04  1.79013196e+02  3.63215879e+01]]\n",
      "[[ 5.64962913e+04  5.67662064e+05 -3.51821663e+03 -1.43829192e+03]\n",
      " [ 5.67662064e+05  5.70376433e+06 -3.53343372e+04 -1.44452649e+04]\n",
      " [-3.51821663e+03 -3.53343372e+04  2.30005325e+02  9.39362523e+01]\n",
      " [-1.43829192e+03 -1.44452649e+04  9.39362523e+01  3.83652297e+01]]\n"
     ]
    }
   ],
   "source": [
    "# Here is a demonstration of the problem\n",
    "# For some points in the parameter space, the density is nan\n",
    "# This is due to a poorly conditioned metric\n",
    "for i in range(0, 3):\n",
    "    print(bank.g_fun(thetas[i]))"
   ]
  },
  {
   "cell_type": "code",
   "execution_count": 17,
   "metadata": {},
   "outputs": [
    {
     "name": "stdout",
     "output_type": "stream",
     "text": [
      "Original: 0.000000060299249\n",
      "Modified: 0.000000060280087\n",
      "Original: 0.000000556326029\n",
      "Modified: 0.000000556048538\n",
      "Original: 0.000000076190523\n",
      "Modified: 0.000000076184671\n",
      "Original: 0.000000097839188\n",
      "Modified: 0.000000097877756\n",
      "Original: 0.000000005008866\n",
      "Modified: 0.000000005011089\n",
      "Original: 0.000000006787082\n",
      "Modified: 0.000000006788318\n",
      "Original: 0.000000056069658\n",
      "Modified: 0.000000056024654\n",
      "Original: 0.000000091258262\n",
      "Modified: 0.000000091265790\n",
      "Original: 0.000000008855287\n",
      "Modified: 0.000000008855856\n",
      "Original: 0.000000228396470\n",
      "Modified: 0.000000228152456\n"
     ]
    }
   ],
   "source": [
    "# This should no longer get nans\n",
    "for i in range(0, 10):\n",
    "    theta_n = jnp.dot(inv(J_temp), thetas[i])\n",
    "    print(\"Original: %.15f\" % jnp.sqrt(det(jnp.dot(jnp.dot(J,gs[i]),J.T))))\n",
    "    print(\"Modified: %.15f\" % jnp.sqrt(det(bank_modified.g_fun(theta_n))))"
   ]
  },
  {
   "cell_type": "code",
   "execution_count": null,
   "metadata": {},
   "outputs": [],
   "source": []
  }
 ],
 "metadata": {
  "kernelspec": {
   "display_name": "Python 3",
   "language": "python",
   "name": "python3"
  },
  "language_info": {
   "codemirror_mode": {
    "name": "ipython",
    "version": 3
   },
   "file_extension": ".py",
   "mimetype": "text/x-python",
   "name": "python",
   "nbconvert_exporter": "python",
   "pygments_lexer": "ipython3",
   "version": "3.7.10"
  }
 },
 "nbformat": 4,
 "nbformat_minor": 4
}

{
 "cells": [
  {
   "cell_type": "markdown",
   "metadata": {},
   "source": [
    "### Here we want to test whether its possible to find an approximate parameter transformation which enables the metric to be flattened\n",
    "\n",
    "In particular, we want to find a $J$ such that\n",
    "\n",
    "$$\n",
    "I \\sim J\\, g\\, J^{\\mathrm{T}}\n",
    "$$\n",
    "\n",
    "where $g$ is the metric in the original parameter space. We want to do this because we found that for 6D parameter spaces the metric is poorly conditioned, making the calculation of the determinant very unstable. Hopefully we can fix that!\n",
    "\n",
    "If we decompose the metric as \n",
    "\n",
    "$$\n",
    "g = U^{\\mathrm{T}} \\, U\n",
    "$$\n",
    "\n",
    "then $J = U^{-1}$. Note that once we have found this tranformation we can also transform the parameters as \n",
    "\n",
    "$$\n",
    "\\theta_n = \\theta_o J\n",
    "$$\n",
    "\n",
    "and similarly\n",
    "\n",
    "$$\n",
    "\\theta_o = \\theta_n (J)^{-1}\n",
    "$$\n",
    "\n",
    "This is enforced since we want $d\\theta_n = d\\theta_n g d\\theta_n = d\\theta_o J g J d\\theta_o$"
   ]
  },
  {
   "cell_type": "markdown",
   "metadata": {},
   "source": [
    "We will start by taking a single point in the parameter space and trying this"
   ]
  },
  {
   "cell_type": "code",
   "execution_count": 1,
   "metadata": {},
   "outputs": [],
   "source": [
    "from functools import partial\n",
    "from typing import Callable\n",
    "import numpy as np\n",
    "from diffbank.bank import Bank\n",
    "from diffbank.utils import gen_templates_rejection\n",
    "from jax import random\n",
    "import jax\n",
    "import jax.numpy as jnp\n",
    "from jax.scipy.linalg import cholesky, inv, det\n",
    "from jax import jit\n",
    "from diffbank.metric import get_g, get_metric_ellipse\n",
    "# from diffbank.waveforms import taylorF2\n",
    "from diffbank.waveforms import twoPN_simple"
   ]
  },
  {
   "cell_type": "code",
   "execution_count": 2,
   "metadata": {},
   "outputs": [],
   "source": [
    "f_u = 512.0  # Hz\n",
    "f_l = 32.0  # Hz\n",
    "\n",
    "Mt_range = (2, 9)\n",
    "eta_range = (0.139, 0.25)\n",
    "# chi1_range = (-0.8, 0.8)\n",
    "# chi2_range = (-0.8, 0.8)\n",
    "# k1_range = (0.0, 1.0)\n",
    "# k2_range = (0.0, 1.0)\n",
    "\n",
    "def get_Sn_aLIGO() -> Callable[[jnp.ndarray], jnp.ndarray]:\n",
    "    \"\"\"\n",
    "    Get interpolator for noise curve.\n",
    "    \"\"\"\n",
    "    xp, yp = np.loadtxt(\"../scripts/LIGO-P1200087-v18-aLIGO_MID_LOW.txt\", unpack=True)\n",
    "    return lambda f: jnp.interp(f, xp, yp, left=jnp.inf, right=jnp.inf)\n",
    "\n",
    "\n",
    "def propose(key, n):\n",
    "    \"\"\"\n",
    "    Proposal distribution for var rejection sampling.\n",
    "    \"\"\"\n",
    "    return random.uniform(\n",
    "        key,\n",
    "        shape=(\n",
    "            n,\n",
    "            2,\n",
    "        ),\n",
    "        minval=jnp.stack(\n",
    "            (Mt_range[0], eta_range[0])\n",
    "        ),\n",
    "        maxval=jnp.stack(\n",
    "            (Mt_range[1], eta_range[1])\n",
    "        ),\n",
    "    )"
   ]
  },
  {
   "cell_type": "code",
   "execution_count": 3,
   "metadata": {},
   "outputs": [],
   "source": [
    "# # Lets just check to see if we can get bad metrics\n",
    "# fs = jnp.linspace(f_l, f_u, 50000)\n",
    "# Sn_aLIGO = get_Sn_aLIGO()\n",
    "# mm = 0.95\n",
    "# eta = 0.95\n",
    "\n",
    "# def Psi_mod(fs, theta):\n",
    "#     theta_o = jnp.dot(J, theta)\n",
    "#     return taylorF2.Psi(fs, theta_o)\n",
    "\n",
    "# def Amp_mod(fs, theta):\n",
    "#     theta_o = jnp.dot(J, theta)\n",
    "#     return taylorF2.Amp(fs, theta_o)\n",
    "\n",
    "# bank = Bank(\n",
    "#     taylorF2.Amp,\n",
    "#     taylorF2.Psi,\n",
    "#     fs,\n",
    "#     Sn_aLIGO,\n",
    "#     sample_base = propose,\n",
    "#     m_star=1 - mm,\n",
    "#     eta=eta,\n",
    "#     name=\"6D\",\n",
    "# )\n",
    "\n",
    "# bank_modified = Bank(\n",
    "#     Amp_mod,\n",
    "#     Psi_mod,\n",
    "#     fs,\n",
    "#     Sn_aLIGO,\n",
    "#     sample_base = propose,\n",
    "#     m_star=1 - mm,\n",
    "#     eta=eta,\n",
    "#     name=\"6D\",\n",
    "# )\n",
    "\n",
    "# seed = 10\n",
    "# key = random.PRNGKey(seed)\n",
    "# N = 10\n",
    "# thetas = propose(key, N)"
   ]
  },
  {
   "cell_type": "code",
   "execution_count": 4,
   "metadata": {},
   "outputs": [
    {
     "name": "stderr",
     "output_type": "stream",
     "text": [
      "WARNING:absl:No GPU/TPU found, falling back to CPU. (Set TF_CPP_MIN_LOG_LEVEL=0 and rerun for more info.)\n"
     ]
    }
   ],
   "source": [
    "# Lets just check to see if we can get bad metrics\n",
    "fs = jnp.linspace(f_l, f_u, 50000)\n",
    "Sn_aLIGO = get_Sn_aLIGO()\n",
    "mm = 0.95\n",
    "eta = 0.95\n",
    "\n",
    "def Psi_mod(fs, theta):\n",
    "    theta_o = jnp.dot(J, theta)\n",
    "    return twoPN_simple.Psi(fs, theta_o)\n",
    "\n",
    "def Amp_mod(fs, theta):\n",
    "    theta_o = jnp.dot(J, theta)\n",
    "    return twoPN_simple.Amp(fs, theta_o)\n",
    "\n",
    "bank = Bank(\n",
    "    twoPN_simple.Amp,\n",
    "    twoPN_simple.Psi,\n",
    "    fs,\n",
    "    Sn_aLIGO,\n",
    "    sample_base = propose,\n",
    "    m_star=1 - mm,\n",
    "    eta=eta,\n",
    "    name=\"2D\",\n",
    ")\n",
    "\n",
    "bank_modified = Bank(\n",
    "    Amp_mod,\n",
    "    Psi_mod,\n",
    "    fs,\n",
    "    Sn_aLIGO,\n",
    "    sample_base = propose,\n",
    "    m_star=1 - mm,\n",
    "    eta=eta,\n",
    "    name=\"2D\",\n",
    ")\n",
    "\n",
    "seed = 10\n",
    "key = random.PRNGKey(seed)\n",
    "N = 10\n",
    "thetas = propose(key, N)"
   ]
  },
  {
   "cell_type": "code",
   "execution_count": 6,
   "metadata": {},
   "outputs": [
    {
     "name": "stdout",
     "output_type": "stream",
     "text": [
      "True\n",
      "True\n",
      "2883358.7662019897\n",
      "True\n",
      "True\n",
      "1.00000000002536\n",
      "[[[1.42715304e+03 2.37818279e+04]\n",
      "  [2.37818279e+04 3.96334657e+05]]\n",
      "\n",
      " [[2.47820025e+05 1.86973821e+06]\n",
      "  [1.86973821e+06 1.41068564e+07]]\n",
      "\n",
      " [[1.54396526e+03 2.60914375e+04]\n",
      "  [2.60914375e+04 4.40960330e+05]]\n",
      "\n",
      " [[1.15488287e+04 1.70688588e+05]\n",
      "  [1.70688588e+05 2.52284003e+06]]\n",
      "\n",
      " [[2.31563916e+04 2.55741528e+05]\n",
      "  [2.55741528e+05 2.82452301e+06]]\n",
      "\n",
      " [[6.49671370e+04 6.59108304e+05]\n",
      "  [6.59108304e+05 6.68696062e+06]]\n",
      "\n",
      " [[7.53240622e+02 1.92903758e+04]\n",
      "  [1.92903758e+04 4.94091774e+05]]\n",
      "\n",
      " [[1.85288146e+05 2.74602564e+06]\n",
      "  [2.74602564e+06 4.06975374e+07]]\n",
      "\n",
      " [[5.10070562e+03 1.23956581e+05]\n",
      "  [1.23956581e+05 3.01257747e+06]]\n",
      "\n",
      " [[1.00171705e+03 1.89542547e+04]\n",
      "  [1.89542547e+04 3.58688878e+05]]]\n",
      "[[1.0000000e+00 2.4158453e-13]\n",
      " [0.0000000e+00 1.0000000e+00]]\n"
     ]
    }
   ],
   "source": [
    "#This is how we can calculate the appropriate coordinate transform\n",
    "gs = jax.lax.map(bank.g_fun, thetas)\n",
    "g_average = gs[0]\n",
    "# g_average = gs.mean(axis=0)\n",
    "\n",
    "# First lets check that the matrix is symmetric and positive definite\n",
    "def check_symmetric(a, rtol=1e-10, atol=1e-10):\n",
    "    return np.allclose(a, a.transpose(), rtol=rtol, atol=atol)\n",
    "\n",
    "def is_pos_def(x):\n",
    "    return np.all(np.linalg.eigvals(x) > 0)\n",
    "\n",
    "def condition(x):\n",
    "    return np.linalg.eigvals(x).max()/np.linalg.eigvals(x).min()\n",
    "\n",
    "# print(g_average)\n",
    "print(check_symmetric(np.array(g_average)))\n",
    "print(is_pos_def(np.array(g_average)))\n",
    "print(condition(np.array(g_average)))\n",
    "\n",
    "# Now lets try to take the decomposition\n",
    "L = cholesky(g_average, lower=True)\n",
    "J = inv(L)\n",
    "G = J @ g_average @ J.T\n",
    "print(check_symmetric(np.array(G)))\n",
    "print(is_pos_def(np.array(G)))\n",
    "print(condition(np.array(G)))\n",
    "\n",
    "print(gs)\n",
    "print(G)\n",
    "# print(J)\n",
    "# np.save(\"../src/diffbank/waveforms/J_taylorF2.npy\", np.array(J))"
   ]
  },
  {
   "cell_type": "code",
   "execution_count": 7,
   "metadata": {},
   "outputs": [
    {
     "name": "stdout",
     "output_type": "stream",
     "text": [
      "[[  1427.15304149  23781.82793658]\n",
      " [ 23781.82793658 396334.65725511]]\n",
      "[[1.0000000e+00 2.4158453e-13]\n",
      " [0.0000000e+00 1.0000000e+00]]\n",
      "0.99999999998732\n"
     ]
    }
   ],
   "source": [
    "k = 0\n",
    "print(gs[k])\n",
    "print(J @ gs[k] @ J.T)\n",
    "print(jnp.sqrt(det(J @ gs[k] @ J.T)))"
   ]
  },
  {
   "cell_type": "code",
   "execution_count": 8,
   "metadata": {},
   "outputs": [
    {
     "name": "stdout",
     "output_type": "stream",
     "text": [
      "[[  1427.15304149  23781.82793658]\n",
      " [ 23781.82793658 396334.65725511]]\n",
      "[[  247820.0249643   1869738.21332848]\n",
      " [ 1869738.21332848 14106856.42578878]]\n",
      "[[  1543.96525581  26091.43753873]\n",
      " [ 26091.43753873 440960.32974307]]\n"
     ]
    }
   ],
   "source": [
    "# Here is a demonstration of the problem\n",
    "# For some points in the parameter space, the density is nan\n",
    "# This is due to a poorly conditioned metric\n",
    "for i in range(0, 3):\n",
    "    print(bank.g_fun(thetas[i]))"
   ]
  },
  {
   "cell_type": "code",
   "execution_count": 9,
   "metadata": {},
   "outputs": [
    {
     "name": "stdout",
     "output_type": "stream",
     "text": [
      "[[1.0000000e+00 2.4158453e-13]\n",
      " [0.0000000e+00 1.0000000e+00]]\n",
      "[[2859046.83433869 -171673.53206241]\n",
      " [-171673.53206241   10308.26122112]]\n",
      "[[ 1.73646426e+02 -9.64748122e+03]\n",
      " [-9.64748122e+03  5.36000853e+05]]\n",
      "[[ 1.01617450e+08 -6.10605837e+06]\n",
      " [-6.10605837e+06  3.66904984e+05]]\n",
      "[[1.08184982 1.54995251]\n",
      " [1.54995251 3.30402851]]\n",
      "[[3181016.23929434 -191004.8459692 ]\n",
      " [-191004.8459692    11468.92956227]]\n"
     ]
    }
   ],
   "source": [
    "# This should no longer get nans\n",
    "for i in range(0, 3):\n",
    "    theta_n = inv(J) @ thetas[i]\n",
    "#     print(\"Original the first: %.15f\" % jnp.sqrt(det(gs[i])))\n",
    "#     print(\"Original: %.15f\" % jnp.sqrt(det(J @ gs[i] @ J.T)))\n",
    "#     print(\"Modified: %.15f\" % bank_modified.density_fun(theta_n))\n",
    "    print(J @ gs[i] @ J.T)\n",
    "    print(bank_modified.g_fun(theta_n))"
   ]
  },
  {
   "cell_type": "code",
   "execution_count": 10,
   "metadata": {},
   "outputs": [
    {
     "name": "stdout",
     "output_type": "stream",
     "text": [
      "[1.+0.j 1.+0.j 0.-0.j]\n",
      "[5.90347667e-04-0.j 1.69391974e+03-0.j 5.99737132e-02-0.j]\n"
     ]
    }
   ],
   "source": [
    "def get_metric_ellipse_simple(g):\n",
    "    eigval, norm_eigvec = jnp.linalg.eig(g)\n",
    "    r_major, r_minor = 1 / jnp.sqrt(eigval)\n",
    "    U = jnp.linalg.inv(norm_eigvec)\n",
    "    ang = jnp.arccos(U[0, 0] / jnp.linalg.norm(U[:, 0]))\n",
    "\n",
    "    return jnp.array([r_major, r_minor, ang])\n",
    "\n",
    "for i in range(0, 1):\n",
    "    theta_n = inv(J) @ thetas[i]\n",
    "    print(get_metric_ellipse_simple(J @ gs[i] @ J.T))\n",
    "    print(get_metric_ellipse(theta_n, Amp_mod, Psi_mod, fs, Sn_aLIGO))"
   ]
  },
  {
   "cell_type": "code",
   "execution_count": null,
   "metadata": {},
   "outputs": [],
   "source": []
  },
  {
   "cell_type": "code",
   "execution_count": null,
   "metadata": {},
   "outputs": [],
   "source": []
  },
  {
   "cell_type": "code",
   "execution_count": null,
   "metadata": {},
   "outputs": [],
   "source": []
  },
  {
   "cell_type": "code",
   "execution_count": null,
   "metadata": {},
   "outputs": [],
   "source": []
  }
 ],
 "metadata": {
  "kernelspec": {
   "display_name": "Python 3",
   "language": "python",
   "name": "python3"
  },
  "language_info": {
   "codemirror_mode": {
    "name": "ipython",
    "version": 3
   },
   "file_extension": ".py",
   "mimetype": "text/x-python",
   "name": "python",
   "nbconvert_exporter": "python",
   "pygments_lexer": "ipython3",
   "version": "3.7.10"
  }
 },
 "nbformat": 4,
 "nbformat_minor": 4
}

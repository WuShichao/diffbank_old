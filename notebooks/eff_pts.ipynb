{
 "cells": [
  {
   "cell_type": "code",
   "execution_count": 1,
   "id": "julian-example",
   "metadata": {},
   "outputs": [],
   "source": [
    "%load_ext autoreload\n",
    "%autoreload 2\n",
    "\n",
    "import jax\n",
    "from jax import random\n",
    "import jax.numpy as jnp\n",
    "from tqdm.auto import trange, tqdm\n",
    "import matplotlib.pyplot as plt\n",
    "\n",
    "from diffbank.metric import get_density\n",
    "from diffbank.noise import Sn_aLIGO\n",
    "from diffbank.utils import (\n",
    "    gen_bank,\n",
    "    get_m1_m2_sampler,\n",
    "    get_match,\n",
    "    gen_template_rejection,\n",
    "    get_bank_effectualness,\n",
    ")\n",
    "from diffbank.waveforms.threePN_simple import Psi, amp"
   ]
  },
  {
   "cell_type": "code",
   "execution_count": 2,
   "id": "suburban-plant",
   "metadata": {},
   "outputs": [
    {
     "name": "stderr",
     "output_type": "stream",
     "text": [
      "WARNING:absl:No GPU/TPU found, falling back to CPU. (Set TF_CPP_MIN_LOG_LEVEL=0 and rerun for more info.)\n"
     ]
    }
   ],
   "source": [
    "key = random.PRNGKey(70)\n",
    "\n",
    "minimum_match = 0.95\n",
    "eta = 0.99\n",
    "fs = jnp.linspace(20.0, 2000.0, 300)\n",
    "m_range = (2.0, 3.0)\n",
    "sampler = get_m1_m2_sampler(m_range, m_range)\n",
    "\n",
    "density_fun = lambda theta: get_density(theta, amp, Psi, fs, Sn_aLIGO)\n",
    "density_max = jnp.array(density_fun(jnp.array([m_range[0], m_range[0]])))"
   ]
  },
  {
   "cell_type": "code",
   "execution_count": 3,
   "id": "legendary-legislation",
   "metadata": {},
   "outputs": [
    {
     "data": {
      "application/vnd.jupyter.widget-view+json": {
       "model_id": "2163561b384d41af914b564f54e80821",
       "version_major": 2,
       "version_minor": 0
      },
      "text/plain": [
       "  0%|          | 0/380 [00:00<?, ?it/s]"
      ]
     },
     "metadata": {},
     "output_type": "display_data"
    }
   ],
   "source": [
    "key, key_bank = random.split(key)\n",
    "templates, eff_pts = gen_bank(\n",
    "    key_bank, density_max, sampler, amp, Psi, fs, Sn_aLIGO, minimum_match, eta\n",
    ")"
   ]
  },
  {
   "cell_type": "code",
   "execution_count": 4,
   "id": "adequate-request",
   "metadata": {},
   "outputs": [
    {
     "data": {
      "application/vnd.jupyter.widget-view+json": {
       "model_id": "7b7e9168c7b4421ca4710ff92d605100",
       "version_major": 2,
       "version_minor": 0
      },
      "text/plain": [
       "  0%|          | 0/1000 [00:00<?, ?it/s]"
      ]
     },
     "metadata": {},
     "output_type": "display_data"
    }
   ],
   "source": [
    "key, key_eff = random.split(key)\n",
    "effs, eta, eta_err = get_bank_effectualness(\n",
    "    key_eff,\n",
    "    templates,\n",
    "    amp,\n",
    "    Psi,\n",
    "    fs,\n",
    "    Sn_aLIGO,\n",
    "    minimum_match,\n",
    "    1000,\n",
    "    base_dist=sampler,\n",
    "    density_max=density_max,\n",
    ")"
   ]
  },
  {
   "cell_type": "code",
   "execution_count": null,
   "id": "fatty-setting",
   "metadata": {},
   "outputs": [],
   "source": []
  },
  {
   "cell_type": "code",
   "execution_count": null,
   "id": "amateur-balloon",
   "metadata": {},
   "outputs": [],
   "source": []
  }
 ],
 "metadata": {
  "@webio": {
   "lastCommId": null,
   "lastKernelId": null
  },
  "kernelspec": {
   "display_name": "Python 3",
   "language": "python",
   "name": "python3"
  },
  "language_info": {
   "codemirror_mode": {
    "name": "ipython",
    "version": 3
   },
   "file_extension": ".py",
   "mimetype": "text/x-python",
   "name": "python",
   "nbconvert_exporter": "python",
   "pygments_lexer": "ipython3",
   "version": "3.9.1"
  }
 },
 "nbformat": 4,
 "nbformat_minor": 5
}

{
 "cells": [
  {
   "cell_type": "code",
   "execution_count": 1,
   "metadata": {},
   "outputs": [],
   "source": [
    "import time\n",
    "\n",
    "from diffbank.bank import Bank\n",
    "import jax.numpy as jnp\n",
    "from diffbank.waveforms.threePN_simple import amp, Psi\n",
    "from diffbank.utils import get_M_eta_sampler, Sn_func\n",
    "import matplotlib.pyplot as plt"
   ]
  },
  {
   "cell_type": "code",
   "execution_count": 2,
   "metadata": {},
   "outputs": [
    {
     "name": "stderr",
     "output_type": "stream",
     "text": [
      "WARNING:absl:No GPU/TPU found, falling back to CPU. (Set TF_CPP_MIN_LOG_LEVEL=0 and rerun for more info.)\n"
     ]
    }
   ],
   "source": [
    "fs = jnp.linspace(30.0, 512.0, 1000)\n",
    "M_range = (4.0, 6.0)\n",
    "eta_range = (0.13888, 0.25)\n",
    "sampler = get_M_eta_sampler(M_range, eta_range)\n",
    "\n",
    "bank = Bank.load_bank(\"../scripts/3PN.npz\", amp, Psi, Sn_func, sampler)"
   ]
  },
  {
   "cell_type": "code",
   "execution_count": 54,
   "metadata": {},
   "outputs": [
    {
     "name": "stdout",
     "output_type": "stream",
     "text": [
      "118\n",
      "Fraction of templates above 0.95: 0.841\n",
      "Subsampled fraction of templates above 0.95: 0.8559322033898306\n"
     ]
    }
   ],
   "source": [
    "import numpy as np\n",
    "mismatch = 1-bank.m_star\n",
    "mask = np.logical_and(\n",
    "    bank.effectualnesses[:, 0] < 5.3, bank.effectualnesses[:, 0] > 4.6\n",
    ") & np.logical_and(\n",
    "    bank.effectualnesses[:, 1] < 0.21, bank.effectualnesses[:, 1] > 0.17\n",
    ")\n",
    "print(sum(mask))\n",
    "masked_effectualness = bank.effectualnesses[mask]\n",
    "print(\n",
    "    \"Fraction of templates above %.2f:\" % mismatch,\n",
    "    sum(bank.effectualnesses[:, -1] > mismatch) / bank.effectualnesses[:, -1].size,\n",
    ")\n",
    "print(\n",
    "    \"Subsampled fraction of templates above %.2f:\" % mismatch,\n",
    "    sum(masked_effectualness[:, -1] > mismatch) / masked_effectualness[:, -1].size,\n",
    ")"
   ]
  },
  {
   "cell_type": "code",
   "execution_count": 55,
   "metadata": {},
   "outputs": [
    {
     "name": "stdout",
     "output_type": "stream",
     "text": [
      "Fraction of templates above 0.95: 0.996\n"
     ]
    },
    {
     "data": {
      "text/plain": [
       "Text(0, 0.5, 'PDF')"
      ]
     },
     "execution_count": 55,
     "metadata": {},
     "output_type": "execute_result"
    },
    {
     "data": {
      "image/png": "[encoded data removed]",
      "text/plain": [
       "<Figure size 432x288 with 1 Axes>"
      ]
     },
     "metadata": {
      "needs_background": "light"
     },
     "output_type": "display_data"
    }
   ],
   "source": [
    "print(\"Fraction of templates above 0.95:\", sum(bank.effectualnesses[:,-1] > 0.90)/bank.effectualnesses[:,-1].size)\n",
    "plt.hist(bank.effectualnesses[:,-1], bins=10, histtype=\"step\", color=\"C0\", density=True)\n",
    "plt.hist(bank.effectualnesses[:,-1], bins=10, alpha=0.4, color=\"C0\", density=True)\n",
    "\n",
    "plt.hist(masked_effectualness[:,-1], bins=10, histtype=\"step\", color=\"C1\", density=True)\n",
    "plt.hist(masked_effectualness[:,-1], bins=10, alpha=0.4, color=\"C1\", density=True)\n",
    "\n",
    "plt.xlim(0.6, 1.001)\n",
    "plt.xlabel(\"Effectualness\")\n",
    "plt.ylabel(\"PDF\")"
   ]
  },
  {
   "cell_type": "code",
   "execution_count": 41,
   "metadata": {},
   "outputs": [],
   "source": [
    "# import numpy as np\n",
    "# M_range = (4.0, 6.0)\n",
    "# eta_range = (0.13888, 0.25)\n",
    "# n=10\n",
    "\n",
    "# M_eta = np.random.uniform(\n",
    "#             low=jnp.array([M_range[0], eta_range[0]]),\n",
    "#             high=jnp.array([M_range[1], eta_range[1]]),\n",
    "#             size=(n, 2),\n",
    "#         )\n",
    "# e = np.random.uniform(10,20,size=(n, 1))"
   ]
  },
  {
   "cell_type": "code",
   "execution_count": null,
   "metadata": {},
   "outputs": [],
   "source": []
  },
  {
   "cell_type": "code",
   "execution_count": null,
   "metadata": {},
   "outputs": [],
   "source": []
  },
  {
   "cell_type": "code",
   "execution_count": null,
   "metadata": {},
   "outputs": [],
   "source": []
  },
  {
   "cell_type": "code",
   "execution_count": null,
   "metadata": {},
   "outputs": [],
   "source": []
  },
  {
   "cell_type": "code",
   "execution_count": null,
   "metadata": {},
   "outputs": [],
   "source": []
  },
  {
   "cell_type": "code",
   "execution_count": null,
   "metadata": {},
   "outputs": [],
   "source": []
  },
  {
   "cell_type": "code",
   "execution_count": null,
   "metadata": {},
   "outputs": [],
   "source": []
  },
  {
   "cell_type": "code",
   "execution_count": null,
   "metadata": {},
   "outputs": [],
   "source": []
  }
 ],
 "metadata": {
  "kernelspec": {
   "display_name": "Python 3",
   "language": "python",
   "name": "python3"
  },
  "language_info": {
   "codemirror_mode": {
    "name": "ipython",
    "version": 3
   },
   "file_extension": ".py",
   "mimetype": "text/x-python",
   "name": "python",
   "nbconvert_exporter": "python",
   "pygments_lexer": "ipython3",
   "version": "3.7.10"
  }
 },
 "nbformat": 4,
 "nbformat_minor": 4
}

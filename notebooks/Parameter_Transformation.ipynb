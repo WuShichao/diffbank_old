{
 "cells": [
  {
   "cell_type": "markdown",
   "metadata": {},
   "source": [
    "### Here we want to test whether its possible to find an approximate parameter transformation which enables the metric to be flattened\n",
    "\n",
    "In particular, we want to find a $J$ such that\n",
    "\n",
    "$$\n",
    "I \\sim J\\, g\\, J^{\\mathrm{T}}\n",
    "$$\n",
    "\n",
    "where $g$ is the metric in the original parameter space. We want to do this because we found that for 6D parameter spaces the metric is poorly conditioned, making the calculation of the determinant very unstable. Hopefully we can fix that!\n",
    "\n",
    "If we decompose the metric as \n",
    "\n",
    "$$\n",
    "g = U^{\\mathrm{T}} \\, U\n",
    "$$\n",
    "\n",
    "then $J = U^{-1}$. Note that once we have found this tranformation we can also transform the parameters as \n",
    "\n",
    "$$\n",
    "\\theta_n = \\theta_o J\n",
    "$$\n",
    "\n",
    "and similarly\n",
    "\n",
    "$$\n",
    "\\theta_o = \\theta_n (J)^{-1}\n",
    "$$\n",
    "\n",
    "This is enforced since we want $d\\theta_n = d\\theta_n g d\\theta_n = d\\theta_o J g J d\\theta_o$"
   ]
  },
  {
   "cell_type": "markdown",
   "metadata": {},
   "source": [
    "We will start by taking a single point in the parameter space and trying this"
   ]
  },
  {
   "cell_type": "code",
   "execution_count": 10,
   "metadata": {},
   "outputs": [],
   "source": [
    "from functools import partial\n",
    "from typing import Callable\n",
    "import numpy as np\n",
    "from diffbank.bank import Bank\n",
    "from diffbank.utils import gen_templates_rejection\n",
    "from jax import random\n",
    "import jax\n",
    "import jax.numpy as jnp\n",
    "from jax.scipy.linalg import cholesky, inv, det, eigh\n",
    "from jax import jit\n",
    "from diffbank.waveforms import kappa6D_modified\n",
    "from diffbank.waveforms import kappa6D\n",
    "from diffbank.metric import get_g"
   ]
  },
  {
   "cell_type": "code",
   "execution_count": 2,
   "metadata": {},
   "outputs": [],
   "source": [
    "f_u = 512.0  # Hz\n",
    "f_l = 32.0  # Hz\n",
    "\n",
    "Mt_range = (2, 9)\n",
    "eta_range = (0.139, 0.25)\n",
    "chi1_range = (-0.8, 0.8)\n",
    "chi2_range = (-0.8, 0.8)\n",
    "k1_range = (0.0, 1.0)\n",
    "k2_range = (0.0, 1.0)\n",
    "\n",
    "def get_Sn_aLIGO() -> Callable[[jnp.ndarray], jnp.ndarray]:\n",
    "    \"\"\"\n",
    "    Get interpolator for noise curve.\n",
    "    \"\"\"\n",
    "    xp, yp = np.loadtxt(\"../scripts/LIGO-P1200087-v18-aLIGO_MID_LOW.txt\", unpack=True)\n",
    "    return lambda f: jnp.interp(f, xp, yp, left=jnp.inf, right=jnp.inf)\n",
    "\n",
    "\n",
    "def propose(key, n):\n",
    "    \"\"\"\n",
    "    Proposal distribution for var rejection sampling.\n",
    "    \"\"\"\n",
    "    return random.uniform(\n",
    "        key,\n",
    "        shape=(\n",
    "            n,\n",
    "            6,\n",
    "        ),\n",
    "        minval=jnp.stack(\n",
    "            (Mt_range[0], eta_range[0], chi1_range[0], chi2_range[0], k1_range[0], k2_range[0])\n",
    "        ),\n",
    "        maxval=jnp.stack(\n",
    "            (Mt_range[1], eta_range[1], chi1_range[1], chi2_range[1], k1_range[1], k2_range[1])\n",
    "        ),\n",
    "    )"
   ]
  },
  {
   "cell_type": "code",
   "execution_count": 3,
   "metadata": {},
   "outputs": [],
   "source": [
    "# Lets just check to see if we can get bad metrics\n",
    "fs = jnp.linspace(f_l, f_u, 3000)\n",
    "Sn_aLIGO = get_Sn_aLIGO()\n",
    "mm = 0.95\n",
    "eta = 0.95\n",
    "\n",
    "bank = Bank(\n",
    "    kappa6D.Amp,\n",
    "    kappa6D.Psi,\n",
    "    fs,\n",
    "    Sn_aLIGO,\n",
    "    sample_base = propose,\n",
    "    m_star=1 - mm,\n",
    "    eta=eta,\n",
    "    name=\"6D\",\n",
    ")\n",
    "\n",
    "bank_modified = Bank(\n",
    "    kappa6D_modified.Amp,\n",
    "    kappa6D_modified.Psi,\n",
    "    fs,\n",
    "    Sn_aLIGO,\n",
    "    sample_base = propose,\n",
    "    m_star=1 - mm,\n",
    "    eta=eta,\n",
    "    name=\"6D\",\n",
    ")\n",
    "\n",
    "seed = 10\n",
    "key = random.PRNGKey(seed)\n",
    "N = 100\n",
    "thetas = propose(key, N)"
   ]
  },
  {
   "cell_type": "code",
   "execution_count": 12,
   "metadata": {},
   "outputs": [
    {
     "name": "stdout",
     "output_type": "stream",
     "text": [
      "(DeviceArray([2.70914640e-03, 1.13603599e-01, 4.11648826e+00,\n",
      "             6.34754843e+01, 1.19431736e+04, 1.06374063e+07],            dtype=float64), DeviceArray([[ 4.53125182e-05, -1.35201010e-04, -1.50428240e-02,\n",
      "               5.02528785e-02,  9.92985174e-01,  1.05965961e-01],\n",
      "             [-3.03676102e-06, -2.57621277e-05,  2.36659901e-03,\n",
      "              -1.05521382e-02, -1.05542378e-01,  9.94356001e-01],\n",
      "             [-1.89364933e-03, -2.67610322e-02,  3.83778645e-01,\n",
      "              -9.21499299e-01,  5.29864098e-02, -5.06903117e-03],\n",
      "             [ 1.49128044e-02,  7.75197872e-03, -9.23021175e-01,\n",
      "              -3.84338849e-01,  5.60531614e-03, -1.28659378e-03],\n",
      "             [-1.34355414e-02, -9.99519298e-01, -1.76259399e-02,\n",
      "               2.16266179e-02, -1.50611254e-03,  8.56547839e-05],\n",
      "             [ 9.99796733e-01, -1.35981207e-02,  1.42583495e-02,\n",
      "               4.27569886e-03, -4.88138297e-05,  8.95843038e-06]],            dtype=float64))\n",
      "[[ 2.76056185e-03 -7.18429215e-20  0.00000000e+00  0.00000000e+00\n",
      "   0.00000000e+00  0.00000000e+00]\n",
      " [-8.68358901e-03  1.01776037e-03 -0.00000000e+00 -0.00000000e+00\n",
      "  -0.00000000e+00 -0.00000000e+00]\n",
      " [-7.01918828e-03  1.43646689e-03  1.35049142e-01  0.00000000e+00\n",
      "   0.00000000e+00  0.00000000e+00]\n",
      " [ 6.70844786e-03 -1.02070783e-03 -1.76146775e-01  4.57653330e-01\n",
      "   0.00000000e+00  0.00000000e+00]\n",
      " [ 4.26529420e-04  7.19648214e-05  7.88190528e-02 -2.23266306e-02\n",
      "   2.96603027e+00  0.00000000e+00]\n",
      " [ 8.68870521e-04 -5.77933210e-05 -3.61489128e-02  2.86295433e-01\n",
      "  -2.51904314e-01  1.92086332e+01]]\n"
     ]
    }
   ],
   "source": [
    "#This is how we can calculate the appropriate coordinate transform\n",
    "gs = jax.lax.map(bank.g_fun, thetas)\n",
    "g_average = gs.sum(axis=0)/gs.shape[0]\n",
    "print(eigh(g_average))\n",
    "U = cholesky(g_average, lower=True)\n",
    "J = inv(U)\n",
    "np.save(\"../src/diffbank/waveforms/J_kappa6D.npy\", np.array(J))\n",
    "print(J)"
   ]
  },
  {
   "cell_type": "code",
   "execution_count": 5,
   "metadata": {},
   "outputs": [
    {
     "name": "stdout",
     "output_type": "stream",
     "text": [
      "[[ 1.42557956e+04  3.14955033e+05 -3.24663204e+03 -4.97371980e+02\n",
      "   6.09051870e+01  2.00263795e-01]\n",
      " [ 3.14955033e+05  6.96120514e+06 -7.13727604e+04 -1.09358693e+04\n",
      "   1.33675510e+03  4.39561489e+00]\n",
      " [-3.24663204e+03 -7.13727604e+04  7.83503795e+02  1.19804031e+02\n",
      "  -1.49656904e+01 -4.91844246e-02]\n",
      " [-4.97371980e+02 -1.09358693e+04  1.19804031e+02  1.83202001e+01\n",
      "  -2.28699358e+00 -7.51627567e-03]\n",
      " [ 6.09051870e+01  1.33675510e+03 -1.49656904e+01 -2.28699358e+00\n",
      "   2.87462515e-01  9.44598523e-04]\n",
      " [ 2.00263795e-01  4.39561489e+00 -4.91844246e-02 -7.51627567e-03\n",
      "   9.44598523e-04  3.10395251e-06]]\n",
      "[[ 0.10863917  0.54316065 -0.23767474  0.32689749 -0.09772111 -0.11689447]\n",
      " [ 0.54316065  2.71859515 -1.13524838  1.59219122 -0.48770107 -0.58064566]\n",
      " [-0.23767474 -1.13524838  1.46832939 -1.46936072  0.22968633  0.32348672]\n",
      " [ 0.32689749  1.59219122 -1.46936072  1.58344371 -0.30657127 -0.40561096]\n",
      " [-0.09772111 -0.48770107  0.22968633 -0.30657127  0.08878457  0.10631948]\n",
      " [-0.11689447 -0.58064566  0.32348672 -0.40561096  0.10631948  0.13061959]]\n",
      "1.4900412739824037e-18\n"
     ]
    }
   ],
   "source": [
    "k = 0\n",
    "print(gs[k])\n",
    "print(jnp.dot(jnp.dot(J,gs[k]),J.T))\n",
    "print(jnp.sqrt(det(jnp.dot(jnp.dot(J,gs[k]),J.T))))"
   ]
  },
  {
   "cell_type": "code",
   "execution_count": 6,
   "metadata": {},
   "outputs": [
    {
     "name": "stdout",
     "output_type": "stream",
     "text": [
      "1.1833529757553127e-13\n",
      "1.3104750787224564e-14\n",
      "2.8236843549070744e-14\n",
      "2.584297165062539e-13\n",
      "7.899986250320024e-14\n",
      "2.51318622794933e-15\n",
      "nan\n",
      "2.526565693013264e-15\n",
      "1.4286877778592906e-13\n",
      "1.6849411646749166e-14\n"
     ]
    }
   ],
   "source": [
    "# Here is a demonstration of the problem\n",
    "# For some points in the parameter space, the density is nan\n",
    "# This is due to a poorly conditioned metric\n",
    "for i in range(0, 10):\n",
    "    print(bank.density_fun(thetas[i]))"
   ]
  },
  {
   "cell_type": "code",
   "execution_count": 13,
   "metadata": {
    "scrolled": true
   },
   "outputs": [
    {
     "name": "stdout",
     "output_type": "stream",
     "text": [
      "Modified: nan\n",
      "(DeviceArray([-4.12596168e-15,  2.93631775e-13,  1.84056168e-07,\n",
      "              5.24662279e-04,  1.09225239e+00,  5.23865100e+02],            dtype=float64), DeviceArray([[-1.13993311e-01,  3.03399303e-02, -8.37075228e-04,\n",
      "               1.75150685e-02,  1.62466205e-01, -9.79480611e-01],\n",
      "             [-9.59582852e-01,  2.55467929e-01,  3.09282570e-03,\n",
      "              -3.95197012e-03, -2.23732433e-02,  1.15806480e-01],\n",
      "             [ 6.47933083e-03,  6.27931750e-03,  6.09947978e-01,\n",
      "              -3.02546984e-01, -7.21410602e-01, -1.26151177e-01],\n",
      "             [-2.55574773e-03, -9.38213816e-03, -7.73908525e-01,\n",
      "              -4.25645377e-01, -4.61335752e-01, -8.34648194e-02],\n",
      "             [-4.32643242e-03, -1.84258232e-02,  1.70109674e-01,\n",
      "              -8.52436185e-01,  4.89625251e-01,  6.57581467e-02],\n",
      "             [ 2.57175121e-01,  9.66099716e-01, -9.02731235e-03,\n",
      "              -1.79301553e-02,  1.03610750e-02,  1.40072973e-03]],            dtype=float64))\n",
      "Modified: nan\n",
      "(DeviceArray([-2.08145109e-15,  1.61808868e-11,  2.09923381e-07,\n",
      "              3.51072026e-04,  4.94561552e-01,  2.80024268e+01],            dtype=float64), DeviceArray([[ 1.17867076e-01,  9.27594839e-04, -4.37339951e-03,\n",
      "               5.94681281e-02,  4.47509963e-01, -8.84469186e-01],\n",
      "             [ 9.92966652e-01,  1.06108080e-02,  3.09881707e-03,\n",
      "              -8.41617525e-03, -5.45933228e-02,  1.04133437e-01],\n",
      "             [-9.89784998e-03,  7.11907944e-01,  6.04136418e-01,\n",
      "              -1.95546530e-01, -2.60431531e-01, -1.48476501e-01],\n",
      "             [ 1.76392306e-03, -3.11223743e-01, -1.82326850e-01,\n",
      "              -5.93773096e-01, -6.25270356e-01, -3.55477259e-01],\n",
      "             [ 3.76786410e-03, -5.00507033e-01,  6.50871549e-01,\n",
      "              -4.12327911e-01,  3.63843856e-01,  1.53127663e-01],\n",
      "             [-3.05027828e-03,  3.81714711e-01, -4.22035075e-01,\n",
      "              -6.59979900e-01,  4.53414214e-01,  1.87117752e-01]],            dtype=float64))\n",
      "Modified: 0.0000000000000000024204487\n",
      "(DeviceArray([-5.85025930e-15,  1.34896445e-12,  8.56595846e-07,\n",
      "              9.54805788e-04,  1.08541336e+00,  3.45063498e+01],            dtype=float64), DeviceArray([[ 0.11824218, -0.00369906, -0.00927614,  0.09189368,\n",
      "               0.61213977, -0.77637588],\n",
      "             [ 0.99245777, -0.03209801,  0.00225482, -0.01191394,\n",
      "              -0.07319052,  0.09215967],\n",
      "             [-0.03095339, -0.94191388,  0.29262864, -0.14842808,\n",
      "              -0.03867692, -0.05178619],\n",
      "             [ 0.00518485,  0.19494117,  0.09943475, -0.80200813,\n",
      "              -0.38556575, -0.40025717],\n",
      "             [ 0.00754434,  0.26231415,  0.88110027, -0.08835161,\n",
      "               0.31103873,  0.22415528],\n",
      "             [-0.00210705, -0.07031007, -0.35784409, -0.5642337 ,\n",
      "               0.61075863,  0.41906311]], dtype=float64))\n"
     ]
    }
   ],
   "source": [
    "# This should no longer get nans\n",
    "for i in range(0, 3):\n",
    "    theta_n = jnp.dot(inv(J), thetas[i])\n",
    "#     print(\"Original: %.25f\" % jnp.sqrt(det(jnp.dot(jnp.dot(J,gs[i]),J.T))))\n",
    "    print(\"Modified: %.25f\" % jnp.sqrt(det(bank_modified.g_fun(theta_n))))\n",
    "    print(eigh(bank_modified.g_fun(theta_n)))"
   ]
  },
  {
   "cell_type": "code",
   "execution_count": null,
   "metadata": {},
   "outputs": [],
   "source": []
  },
  {
   "cell_type": "code",
   "execution_count": null,
   "metadata": {},
   "outputs": [],
   "source": []
  }
 ],
 "metadata": {
  "kernelspec": {
   "display_name": "Python 3",
   "language": "python",
   "name": "python3"
  },
  "language_info": {
   "codemirror_mode": {
    "name": "ipython",
    "version": 3
   },
   "file_extension": ".py",
   "mimetype": "text/x-python",
   "name": "python",
   "nbconvert_exporter": "python",
   "pygments_lexer": "ipython3",
   "version": "3.7.10"
  }
 },
 "nbformat": 4,
 "nbformat_minor": 4
}

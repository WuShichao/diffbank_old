{
 "cells": [
  {
   "cell_type": "markdown",
   "metadata": {},
   "source": [
    "### Here we want to test whether its possible to find an approximate parameter transformation which enables the metric to be flattened\n",
    "\n",
    "In particular, we want to find a $J$ such that\n",
    "\n",
    "$$\n",
    "I \\sim J\\, g\\, J^{\\mathrm{T}}\n",
    "$$\n",
    "\n",
    "where $g$ is the metric in the original parameter space. We want to do this because we found that for 6D parameter spaces the metric is poorly conditioned, making the calculation of the determinant very unstable. Hopefully we can fix that!\n",
    "\n",
    "If we decompose the metric as \n",
    "\n",
    "$$\n",
    "g = U^{\\mathrm{T}} \\, U\n",
    "$$\n",
    "\n",
    "then $J = U^{-1}$. Note that once we have found this tranformation we can also transform the parameters as \n",
    "\n",
    "$$\n",
    "\\theta_n = \\theta_o J\n",
    "$$\n",
    "\n",
    "and similarly\n",
    "\n",
    "$$\n",
    "\\theta_o = \\theta_n (J)^{-1}\n",
    "$$\n",
    "\n",
    "This is enforced since we want $d\\theta_n = d\\theta_n g d\\theta_n = d\\theta_o J g J d\\theta_o$"
   ]
  },
  {
   "cell_type": "markdown",
   "metadata": {},
   "source": [
    "We will start by taking a single point in the parameter space and trying this"
   ]
  },
  {
   "cell_type": "code",
   "execution_count": 1,
   "metadata": {},
   "outputs": [
    {
     "name": "stderr",
     "output_type": "stream",
     "text": [
      "WARNING:absl:No GPU/TPU found, falling back to CPU. (Set TF_CPP_MIN_LOG_LEVEL=0 and rerun for more info.)\n"
     ]
    }
   ],
   "source": [
    "from functools import partial\n",
    "from typing import Callable\n",
    "import numpy as np\n",
    "from diffbank.bank import Bank\n",
    "from diffbank.utils import gen_templates_rejection\n",
    "from jax import random\n",
    "import jax\n",
    "import jax.numpy as jnp\n",
    "from jax.scipy.linalg import cholesky, inv, det, eigh\n",
    "from jax import jit\n",
    "from diffbank.waveforms import kappa6D_modified\n",
    "from diffbank.waveforms import kappa6D\n",
    "from diffbank.metric import get_g"
   ]
  },
  {
   "cell_type": "code",
   "execution_count": 2,
   "metadata": {},
   "outputs": [],
   "source": [
    "f_u = 512.0  # Hz\n",
    "f_l = 32.0  # Hz\n",
    "\n",
    "Mt_range = (2, 9)\n",
    "eta_range = (0.139, 0.25)\n",
    "chi1_range = (-0.8, 0.8)\n",
    "chi2_range = (-0.8, 0.8)\n",
    "k1_range = (0.0, 1.0)\n",
    "k2_range = (0.0, 1.0)\n",
    "\n",
    "def get_Sn_aLIGO() -> Callable[[jnp.ndarray], jnp.ndarray]:\n",
    "    \"\"\"\n",
    "    Get interpolator for noise curve.\n",
    "    \"\"\"\n",
    "    xp, yp = np.loadtxt(\"../scripts/LIGO-P1200087-v18-aLIGO_MID_LOW.txt\", unpack=True)\n",
    "    return lambda f: jnp.interp(f, xp, yp, left=jnp.inf, right=jnp.inf)\n",
    "\n",
    "\n",
    "def propose(key, n):\n",
    "    \"\"\"\n",
    "    Proposal distribution for var rejection sampling.\n",
    "    \"\"\"\n",
    "    return random.uniform(\n",
    "        key,\n",
    "        shape=(\n",
    "            n,\n",
    "            6,\n",
    "        ),\n",
    "        minval=jnp.stack(\n",
    "            (Mt_range[0], eta_range[0], chi1_range[0], chi2_range[0], k1_range[0], k2_range[0])\n",
    "        ),\n",
    "        maxval=jnp.stack(\n",
    "            (Mt_range[1], eta_range[1], chi1_range[1], chi2_range[1], k1_range[1], k2_range[1])\n",
    "        ),\n",
    "    )"
   ]
  },
  {
   "cell_type": "code",
   "execution_count": 3,
   "metadata": {},
   "outputs": [],
   "source": [
    "# Lets just check to see if we can get bad metrics\n",
    "fs = jnp.linspace(f_l, f_u, 3000)\n",
    "Sn_aLIGO = get_Sn_aLIGO()\n",
    "mm = 0.95\n",
    "eta = 0.95\n",
    "\n",
    "bank = Bank(\n",
    "    kappa6D.Amp,\n",
    "    kappa6D.Psi,\n",
    "    fs,\n",
    "    Sn_aLIGO,\n",
    "    sample_base = propose,\n",
    "    m_star=1 - mm,\n",
    "    eta=eta,\n",
    "    name=\"6D\",\n",
    ")\n",
    "\n",
    "bank_modified = Bank(\n",
    "    kappa6D_modified.Amp,\n",
    "    kappa6D_modified.Psi,\n",
    "    fs,\n",
    "    Sn_aLIGO,\n",
    "    sample_base = propose,\n",
    "    m_star=1 - mm,\n",
    "    eta=eta,\n",
    "    name=\"6D\",\n",
    ")\n",
    "\n",
    "seed = 10\n",
    "key = random.PRNGKey(seed)\n",
    "N = 100\n",
    "thetas = propose(key, N)"
   ]
  },
  {
   "cell_type": "code",
   "execution_count": 8,
   "metadata": {},
   "outputs": [
    {
     "name": "stdout",
     "output_type": "stream",
     "text": [
      "[[ 1.31221512e+05  1.11958935e+06 -5.08840354e+03 -1.38494552e+03\n",
      "   7.87588377e+01  9.53182317e+00]\n",
      " [ 1.11958935e+06  1.05178032e+07 -5.36831813e+04 -1.36155941e+04\n",
      "   9.07886059e+02  9.48154277e+01]\n",
      " [-5.08840354e+03 -5.36831813e+04  3.61367433e+02  9.39448084e+01\n",
      "  -6.86153259e+00 -7.41476228e-01]\n",
      " [-1.38494552e+03 -1.36155941e+04  9.39448084e+01  3.08670897e+01\n",
      "  -1.73461442e+00 -2.84331164e-01]\n",
      " [ 7.87588377e+01  9.07886059e+02 -6.86153259e+00 -1.73461442e+00\n",
      "   2.49597439e-01  1.53831056e-02]\n",
      " [ 9.53182317e+00  9.48154277e+01 -7.41476228e-01 -2.84331164e-01\n",
      "   1.53831056e-02  5.60851606e-03]]\n",
      "True\n",
      "True\n",
      "[[ 1.00000000e+00 -4.44089210e-16  6.66133815e-16  2.22044605e-16\n",
      "   1.11022302e-16  4.44089210e-16]\n",
      " [ 0.00000000e+00  1.00000000e+00 -2.66453526e-15  2.88657986e-15\n",
      "   1.11022302e-16  4.99600361e-16]\n",
      " [ 3.13839547e-16 -2.83850511e-15  1.00000000e+00  3.10862447e-15\n",
      "  -4.44089210e-16  4.44089210e-16]\n",
      " [ 3.13839547e-16  2.71538090e-15  4.42784677e-15  1.00000000e+00\n",
      "   1.34614542e-15 -1.66533454e-15]\n",
      " [ 1.56919773e-16 -3.07810531e-17 -7.05347018e-16  1.57524286e-15\n",
      "   1.00000000e+00  7.35522754e-16]\n",
      " [ 3.13839547e-16  4.01261728e-16  4.42012813e-16 -1.31704298e-15\n",
      "   4.64547072e-16  1.00000000e+00]]\n",
      "False\n",
      "True\n",
      "[[ 2.76056185e-03  0.00000000e+00  0.00000000e+00  0.00000000e+00\n",
      "   0.00000000e+00  0.00000000e+00]\n",
      " [-8.68358901e-03  1.01776037e-03 -0.00000000e+00 -0.00000000e+00\n",
      "  -0.00000000e+00 -0.00000000e+00]\n",
      " [-7.01918828e-03  1.43646689e-03  1.35049142e-01  0.00000000e+00\n",
      "   0.00000000e+00  0.00000000e+00]\n",
      " [ 6.70844786e-03 -1.02070783e-03 -1.76146775e-01  4.57653330e-01\n",
      "   0.00000000e+00  0.00000000e+00]\n",
      " [ 4.26529420e-04  7.19648214e-05  7.88190528e-02 -2.23266306e-02\n",
      "   2.96603027e+00  0.00000000e+00]\n",
      " [ 8.68870521e-04 -5.77933210e-05 -3.61489128e-02  2.86295433e-01\n",
      "  -2.51904314e-01  1.92086332e+01]]\n"
     ]
    }
   ],
   "source": [
    "#This is how we can calculate the appropriate coordinate transform\n",
    "gs = jax.lax.map(bank.g_fun, thetas)\n",
    "g_average = gs.sum(axis=0)/gs.shape[0]\n",
    "\n",
    "# First lets check that the matrix is symmetric and positive definite\n",
    "def check_symmetric(a, rtol=1e-15, atol=1e-15):\n",
    "    return np.allclose(a, a.transpose(), rtol=rtol, atol=atol)\n",
    "\n",
    "def is_pos_def(x):\n",
    "    return np.all(np.linalg.eigvals(x) > 0)\n",
    "\n",
    "print(g_average)\n",
    "print(check_symmetric(np.array(g_average)))\n",
    "print(is_pos_def(np.array(g_average)))\n",
    "\n",
    "# Now lets try to take the decomposition\n",
    "L = cholesky(g_average, lower=True)\n",
    "J = inv(L)\n",
    "G = jnp.dot(jnp.dot(J,g_average),J.transpose())\n",
    "print(G)\n",
    "print(check_symmetric(np.array(G)))\n",
    "print(is_pos_def(np.array(G)))\n",
    "\n",
    "print(J)\n",
    "np.save(\"../src/diffbank/waveforms/J_kappa6D.npy\", np.array(J))"
   ]
  },
  {
   "cell_type": "code",
   "execution_count": 5,
   "metadata": {},
   "outputs": [
    {
     "name": "stdout",
     "output_type": "stream",
     "text": [
      "[[ 1.42557956e+04  3.14955033e+05 -3.24663204e+03 -4.97371980e+02\n",
      "   6.09051870e+01  2.00263795e-01]\n",
      " [ 3.14955033e+05  6.96120514e+06 -7.13727604e+04 -1.09358693e+04\n",
      "   1.33675510e+03  4.39561489e+00]\n",
      " [-3.24663204e+03 -7.13727604e+04  7.83503795e+02  1.19804031e+02\n",
      "  -1.49656904e+01 -4.91844246e-02]\n",
      " [-4.97371980e+02 -1.09358693e+04  1.19804031e+02  1.83202001e+01\n",
      "  -2.28699358e+00 -7.51627567e-03]\n",
      " [ 6.09051870e+01  1.33675510e+03 -1.49656904e+01 -2.28699358e+00\n",
      "   2.87462515e-01  9.44598523e-04]\n",
      " [ 2.00263795e-01  4.39561489e+00 -4.91844246e-02 -7.51627567e-03\n",
      "   9.44598523e-04  3.10395251e-06]]\n",
      "[[ 0.10863917  0.54316065 -0.23767474  0.32689749 -0.09772111 -0.11689447]\n",
      " [ 0.54316065  2.71859515 -1.13524838  1.59219122 -0.48770107 -0.58064566]\n",
      " [-0.23767474 -1.13524838  1.46832939 -1.46936072  0.22968633  0.32348672]\n",
      " [ 0.32689749  1.59219122 -1.46936072  1.58344371 -0.30657127 -0.40561096]\n",
      " [-0.09772111 -0.48770107  0.22968633 -0.30657127  0.08878457  0.10631948]\n",
      " [-0.11689447 -0.58064566  0.32348672 -0.40561096  0.10631948  0.13061959]]\n",
      "1.5462996519596694e-18\n"
     ]
    }
   ],
   "source": [
    "k = 0\n",
    "print(gs[k])\n",
    "print(jnp.dot(jnp.dot(J,gs[k]),J.T))\n",
    "print(jnp.sqrt(det(jnp.dot(jnp.dot(J,gs[k]),J.T))))"
   ]
  },
  {
   "cell_type": "code",
   "execution_count": 6,
   "metadata": {},
   "outputs": [
    {
     "name": "stdout",
     "output_type": "stream",
     "text": [
      "1.231819280168623e-13\n",
      "nan\n",
      "nan\n",
      "2.427226962213465e-13\n",
      "7.885662540237092e-14\n",
      "2.4650504553996393e-15\n",
      "nan\n",
      "2.5210887163890613e-15\n",
      "1.1969542749845183e-13\n",
      "1.664126844623099e-14\n"
     ]
    }
   ],
   "source": [
    "# Here is a demonstration of the problem\n",
    "# For some points in the parameter space, the density is nan\n",
    "# This is due to a poorly conditioned metric\n",
    "for i in range(0, 10):\n",
    "    print(bank.density_fun(thetas[i]))"
   ]
  },
  {
   "cell_type": "code",
   "execution_count": 9,
   "metadata": {
    "scrolled": true
   },
   "outputs": [
    {
     "name": "stdout",
     "output_type": "stream",
     "text": [
      "Original: 0.000000000000000\n",
      "Modified: nan\n",
      "Original: nan\n",
      "Modified: nan\n",
      "Original: nan\n",
      "Modified: 0.000000000000000\n",
      "Original: 0.000000000000000\n",
      "Modified: nan\n",
      "Original: 0.000000000000000\n",
      "Modified: 0.000000000000000\n",
      "Original: 0.000000000000000\n",
      "Modified: 0.000000000000000\n",
      "Original: nan\n",
      "Modified: nan\n",
      "Original: 0.000000000000000\n",
      "Modified: 0.000000000000000\n",
      "Original: 0.000000000000000\n",
      "Modified: 0.000000000000000\n",
      "Original: 0.000000000000000\n",
      "Modified: 0.000000000000000\n"
     ]
    }
   ],
   "source": [
    "# This should no longer get nans\n",
    "for i in range(0, 10):\n",
    "    theta_n = jnp.dot(inv(J), thetas[i])\n",
    "    print(\"Original: %.15f\" % jnp.sqrt(det(jnp.dot(jnp.dot(J,gs[i]),J.T))))\n",
    "    print(\"Modified: %.15f\" % jnp.sqrt(det(bank_modified.g_fun(theta_n))))"
   ]
  },
  {
   "cell_type": "code",
   "execution_count": null,
   "metadata": {},
   "outputs": [],
   "source": []
  },
  {
   "cell_type": "code",
   "execution_count": null,
   "metadata": {},
   "outputs": [],
   "source": []
  }
 ],
 "metadata": {
  "kernelspec": {
   "display_name": "Python 3",
   "language": "python",
   "name": "python3"
  },
  "language_info": {
   "codemirror_mode": {
    "name": "ipython",
    "version": 3
   },
   "file_extension": ".py",
   "mimetype": "text/x-python",
   "name": "python",
   "nbconvert_exporter": "python",
   "pygments_lexer": "ipython3",
   "version": "3.7.10"
  }
 },
 "nbformat": 4,
 "nbformat_minor": 4
}
